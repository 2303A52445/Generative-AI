{
  "nbformat": 4,
  "nbformat_minor": 0,
  "metadata": {
    "colab": {
      "provenance": [],
      "authorship_tag": "ABX9TyN8/YJR2L1FyCHhPCBpxQM6",
      "include_colab_link": true
    },
    "kernelspec": {
      "name": "python3",
      "display_name": "Python 3"
    },
    "language_info": {
      "name": "python"
    }
  },
  "cells": [
    {
      "cell_type": "markdown",
      "metadata": {
        "id": "view-in-github",
        "colab_type": "text"
      },
      "source": [
        "<a href=\"https://colab.research.google.com/github/2303A52445/Generative-AI/blob/main/GAI_ASS_5.ipynb\" target=\"_parent\"><img src=\"https://colab.research.google.com/assets/colab-badge.svg\" alt=\"Open In Colab\"/></a>"
      ]
    },
    {
      "cell_type": "code",
      "execution_count": null,
      "metadata": {
        "colab": {
          "base_uri": "https://localhost:8080/"
        },
        "id": "XZcqTo3rdLCQ",
        "outputId": "87fd12ad-02c4-4bba-8ba9-c742c326b240"
      },
      "outputs": [
        {
          "output_type": "stream",
          "name": "stdout",
          "text": [
            "Epoch 0, MSE Loss: 0.221867\n",
            "Epoch 1000, MSE Loss: 0.000000\n",
            "Epoch 2000, MSE Loss: 0.000000\n",
            "Epoch 3000, MSE Loss: 0.000000\n",
            "Epoch 4000, MSE Loss: 0.000000\n",
            "Epoch 5000, MSE Loss: 0.000000\n",
            "Epoch 6000, MSE Loss: 0.000000\n",
            "Epoch 7000, MSE Loss: 0.000000\n",
            "Epoch 8000, MSE Loss: 0.000000\n",
            "Epoch 9000, MSE Loss: 0.000000\n",
            "Training MSE: 0.000000\n",
            "Testing MSE: 0.000000\n",
            "Enter x1: 0.5\n",
            "Enter x2: 0.4\n",
            "Predicted output: 0.3615\n"
          ]
        }
      ],
      "source": [
        "import numpy as np\n",
        "\n",
        "# Sigmoid Activation function and its derivative\n",
        "def sigmoid(x):\n",
        "    return 1 / (1 + np.exp(-x))\n",
        "\n",
        "def sigmoid_derivative(x):\n",
        "    return x * (1 - x)\n",
        "\n",
        "# Linear Activation function (for output)\n",
        "def linear(x):\n",
        "    return x\n",
        "\n",
        "def linear_derivative(x):\n",
        "    return 1\n",
        "\n",
        "# Training Data (Input: x1, x2, Output: y)\n",
        "X_train = np.array([[0.2, 0.1], [0.3, 0.2], [0.4, 0.3], [0.7, 0.6], [0.8, 0.7], [0.9, 0.8]])\n",
        "y_train = np.array([[0.3441], [0.3500], [0.3558], [0.3729], [0.3785], [0.3841]])\n",
        "\n",
        "# Initialize parameters (weights and biases)\n",
        "input_layer_size = 2\n",
        "hidden_layer_size = 1\n",
        "output_layer_size = 1\n",
        "\n",
        "# Random initialization of weights and biases\n",
        "np.random.seed(42)\n",
        "W1 = np.random.randn(input_layer_size, hidden_layer_size)\n",
        "b1 = np.random.randn(hidden_layer_size)\n",
        "W2 = np.random.randn(hidden_layer_size, output_layer_size)\n",
        "b2 = np.random.randn(output_layer_size)\n",
        "\n",
        "# Learning Rate\n",
        "learning_rate = 0.1\n",
        "epochs = 10000  # Number of iterations\n",
        "\n",
        "# Backpropagation with Gradient Descent\n",
        "for epoch in range(epochs):\n",
        "    # Forward Pass\n",
        "    z1 = np.dot(X_train, W1) + b1\n",
        "    a1 = sigmoid(z1)\n",
        "    z2 = np.dot(a1, W2) + b2\n",
        "    a2 = linear(z2)\n",
        "\n",
        "    # Compute the error (loss)\n",
        "    loss = a2 - y_train\n",
        "    mse = np.mean(loss**2)\n",
        "\n",
        "    # Backward Pass (compute gradients)\n",
        "    d_a2 = loss\n",
        "    d_z2 = d_a2 * linear_derivative(a2)\n",
        "    d_W2 = np.dot(a1.T, d_z2)\n",
        "    d_b2 = np.sum(d_z2, axis=0, keepdims=True)\n",
        "\n",
        "    d_a1 = np.dot(d_z2, W2.T)\n",
        "    d_z1 = d_a1 * sigmoid_derivative(a1)\n",
        "    d_W1 = np.dot(X_train.T, d_z1)\n",
        "    d_b1 = np.sum(d_z1, axis=0, keepdims=True)\n",
        "\n",
        "    # Update weights and biases\n",
        "    W1 -= learning_rate * d_W1\n",
        "    b1 -= learning_rate * np.squeeze(d_b1)\n",
        "    W2 -= learning_rate * d_W2\n",
        "    b2 -= learning_rate * np.squeeze(d_b2)\n",
        "\n",
        "    # Every 1000 epochs, print the loss\n",
        "    if epoch % 1000 == 0:\n",
        "        print(f\"Epoch {epoch}, MSE Loss: {mse:.6f}\")\n",
        "\n",
        "# Test Data (For MSE calculation and prediction)\n",
        "X_test = np.array([[0.5, 0.4], [0.6, 0.5]])\n",
        "y_test = np.array([[0.3615], [0.3672]])\n",
        "\n",
        "# Predict the output on training and testing data\n",
        "def predict(X):\n",
        "    z1 = np.dot(X, W1) + b1\n",
        "    a1 = sigmoid(z1)\n",
        "    z2 = np.dot(a1, W2) + b2\n",
        "    return linear(z2)\n",
        "\n",
        "# Calculate MSE on Test Data\n",
        "y_pred_train = predict(X_train)\n",
        "y_pred_test = predict(X_test)\n",
        "\n",
        "train_mse = np.mean((y_pred_train - y_train)**2)\n",
        "test_mse = np.mean((y_pred_test - y_test)**2)\n",
        "\n",
        "print(f\"Training MSE: {train_mse:.6f}\")\n",
        "print(f\"Testing MSE: {test_mse:.6f}\")\n",
        "\n",
        "# Function to get user input and predict output\n",
        "def user_input_predict():\n",
        "    x1 = float(input(\"Enter x1: \"))\n",
        "    x2 = float(input(\"Enter x2: \"))\n",
        "    user_input = np.array([[x1, x2]])\n",
        "    prediction = predict(user_input)\n",
        "    print(f\"Predicted output: {prediction[0][0]:.4f}\")\n",
        "\n",
        "# Uncomment the below line to take user input for prediction\n",
        "user_input_predict()"
      ]
    }
  ]
}