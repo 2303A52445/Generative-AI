{
  "nbformat": 4,
  "nbformat_minor": 0,
  "metadata": {
    "colab": {
      "provenance": [],
      "authorship_tag": "ABX9TyN0EbxWpNsDkUZS87Gd6GN3",
      "include_colab_link": true
    },
    "kernelspec": {
      "name": "python3",
      "display_name": "Python 3"
    },
    "language_info": {
      "name": "python"
    }
  },
  "cells": [
    {
      "cell_type": "markdown",
      "metadata": {
        "id": "view-in-github",
        "colab_type": "text"
      },
      "source": [
        "<a href=\"https://colab.research.google.com/github/2303A52445/Generative-AI/blob/main/GAI_ass2.ipynb\" target=\"_parent\"><img src=\"https://colab.research.google.com/assets/colab-badge.svg\" alt=\"Open In Colab\"/></a>"
      ]
    },
    {
      "cell_type": "code",
      "execution_count": 1,
      "metadata": {
        "id": "BRTMvWg3ZZmS",
        "colab": {
          "base_uri": "https://localhost:8080/"
        },
        "outputId": "f2e56024-7b51-49bf-e9b8-31649b6ec2cc"
      },
      "outputs": [
        {
          "output_type": "execute_result",
          "data": {
            "text/plain": [
              "(2.0, 3.0, 27.0)"
            ]
          },
          "metadata": {},
          "execution_count": 1
        }
      ],
      "source": [
        "from scipy.optimize import linprog\n",
        "\n",
        "# Coefficients of the objective function (negative for maximization)\n",
        "c = [-6, -5]  # Profit coefficients for A and B (negated for maximization)\n",
        "\n",
        "# Coefficients for the inequality constraints (resource usage per unit)\n",
        "A = [[1, 1],  # Milk constraint\n",
        "     [3, 2]]  # Choco constraint\n",
        "b = [5, 12]   # Available resources: Milk = 5 units, Choco = 12 units\n",
        "\n",
        "# Bounds for the decision variables (x >= 0, y >= 0)\n",
        "x_bounds = (0, None)  # Bounds for A (non-negative)\n",
        "y_bounds = (0, None)  # Bounds for B (non-negative)\n",
        "\n",
        "# Solve the linear programming problem\n",
        "result = linprog(c, A_ub=A, b_ub=b, bounds=[x_bounds, y_bounds], method='highs')\n",
        "\n",
        "# Extracting the results\n",
        "optimal_A, optimal_B = result.x if result.success else (None, None)\n",
        "max_profit = -result.fun if result.success else None\n",
        "\n",
        "optimal_A, optimal_B, max_profit"
      ]
    },
    {
      "cell_type": "code",
      "source": [
        "from scipy.optimize import linprog\n",
        "\n",
        "# Coefficients of the objective function (negative for maximization)\n",
        "c = [-50, -120]  # Profit coefficients for Wheat and Barley (negated for maximization)\n",
        "\n",
        "# Coefficients for the inequality constraints (resource usage per hectare)\n",
        "A = [[7000, 2000],  # Cost constraint (Rs/hectare)\n",
        "     [10, 30],       # Labor constraint (man-days/hectare)\n",
        "     [1, 1]]         # Land constraint (hectares)\n",
        "b = [700000, 1200, 110]  # Available resources: budget, labor, and land\n",
        "\n",
        "# Bounds for the decision variables (hectares >= 0)\n",
        "wheat_bounds = (0, None)  # Bounds for Wheat (non-negative)\n",
        "barley_bounds = (0, None)  # Bounds for Barley (non-negative)\n",
        "\n",
        "# Solve the linear programming problem\n",
        "result = linprog(c, A_ub=A, b_ub=b, bounds=[wheat_bounds, barley_bounds], method='highs')\n",
        "\n",
        "# Extracting the results\n",
        "optimal_wheat, optimal_barley = result.x if result.success else (None, None)\n",
        "max_profit = -result.fun if result.success else None\n",
        "\n",
        "optimal_wheat, optimal_barley, max_profit"
      ],
      "metadata": {
        "id": "7hPgkChXaA6F",
        "colab": {
          "base_uri": "https://localhost:8080/"
        },
        "outputId": "c8f51f6b-d034-4fa2-fe24-6f76cbe84c7b"
      },
      "execution_count": 2,
      "outputs": [
        {
          "output_type": "execute_result",
          "data": {
            "text/plain": [
              "(97.89473684210526, 7.368421052631579, 5778.9473684210525)"
            ]
          },
          "metadata": {},
          "execution_count": 2
        }
      ]
    }
  ]
}